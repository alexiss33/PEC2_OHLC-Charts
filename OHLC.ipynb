{
 "cells": [
  {
   "cell_type": "code",
   "execution_count": null,
   "id": "6553bb06",
   "metadata": {},
   "outputs": [],
   "source": [
    "# Se instala plotly donde, con el cual se puede ejecutar el diagrama\n",
    "\n",
    "conda install -c plotly plotly=5.7.0"
   ]
  },
  {
   "cell_type": "code",
   "execution_count": null,
   "id": "adcc3605",
   "metadata": {},
   "outputs": [],
   "source": [
    "import plotly.graph_objects as go\n",
    "import pandas as pd\n",
    "\n",
    "df = pd.read_csv('https://raw.githubusercontent.com/plotly/datasets/master/finance-charts-apple.csv')\n",
    "\n",
    "fig = go.Figure(data=go.Ohlc(x=df['Date'],\n",
    "                    open=df['AAPL.Open'],\n",
    "                    high=df['AAPL.High'],\n",
    "                    low=df['AAPL.Low'],\n",
    "                    close=df['AAPL.Close']))\n",
    "fig.show()"
   ]
  }
 ],
 "metadata": {
  "kernelspec": {
   "display_name": "Python 3 (ipykernel)",
   "language": "python",
   "name": "python3"
  },
  "language_info": {
   "codemirror_mode": {
    "name": "ipython",
    "version": 3
   },
   "file_extension": ".py",
   "mimetype": "text/x-python",
   "name": "python",
   "nbconvert_exporter": "python",
   "pygments_lexer": "ipython3",
   "version": "3.9.1"
  }
 },
 "nbformat": 4,
 "nbformat_minor": 5
}
